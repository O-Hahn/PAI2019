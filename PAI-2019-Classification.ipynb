{
    "cells": [
        {
            "cell_type": "markdown",
            "metadata": {
                "collapsed": true
            },
            "source": "# Imports"
        },
        {
            "cell_type": "code",
            "execution_count": null,
            "metadata": {},
            "outputs": [],
            "source": "from matplotlib import pylab as plt\nimport numpy as np\nimport pandas as pd\nfrom pandas import DataFrame"
        },
        {
            "cell_type": "markdown",
            "metadata": {},
            "source": "# Load some example data"
        },
        {
            "cell_type": "code",
            "execution_count": null,
            "metadata": {},
            "outputs": [],
            "source": "from sklearn.datasets import load_iris"
        },
        {
            "cell_type": "code",
            "execution_count": null,
            "metadata": {},
            "outputs": [],
            "source": "iris = load_iris()\n\ndf = DataFrame(\n    data = iris.data,\n    columns = iris.feature_names\n)\ndf['class'] = iris.target_names[iris.target]\ndf['target'] = iris.target\n\niris = df\niris.loc[0:150:10]"
        },
        {
            "cell_type": "code",
            "execution_count": null,
            "metadata": {},
            "outputs": [],
            "source": "from pandas.plotting import scatter_matrix\nscatter_matrix(iris, c=iris.target, figsize=(12,12));"
        },
        {
            "cell_type": "markdown",
            "metadata": {},
            "source": "# Binary Classification"
        },
        {
            "cell_type": "markdown",
            "metadata": {},
            "source": "#### Select two deimesions of the data for better visualization"
        },
        {
            "cell_type": "code",
            "execution_count": null,
            "metadata": {},
            "outputs": [],
            "source": "# select data\nX = iris[['sepal width (cm)', 'petal length (cm)']]\n\n# make a grid for visualization of decision function(s)\nx1 = np.linspace(1, 7, 61)\nx2 = np.linspace(1, 7, 61)\nX1, X2 = np.meshgrid(x1, x2)\nX_grid = np.array(list(zip(X1.ravel(), X2.ravel())))"
        },
        {
            "cell_type": "markdown",
            "metadata": {},
            "source": "#### Make binary target variable"
        },
        {
            "cell_type": "code",
            "execution_count": null,
            "metadata": {},
            "outputs": [],
            "source": "Y_bin = (df.target == 0)"
        },
        {
            "cell_type": "code",
            "execution_count": null,
            "metadata": {},
            "outputs": [],
            "source": "scatter_matrix(X, c=Y_bin, figsize=(10,10), marker='.', s=70);"
        },
        {
            "cell_type": "markdown",
            "metadata": {},
            "source": "# Use Logistic Regression"
        },
        {
            "cell_type": "code",
            "execution_count": null,
            "metadata": {},
            "outputs": [],
            "source": "from sklearn.linear_model import LogisticRegression\n\nclassifier = LogisticRegression(solver='lbfgs')\nclassifier.fit(X, Y_bin);"
        },
        {
            "cell_type": "markdown",
            "metadata": {},
            "source": "BFGS: Broyden\u2013Fletcher\u2013Goldfarb\u2013Shanno algorithm"
        },
        {
            "cell_type": "code",
            "execution_count": null,
            "metadata": {},
            "outputs": [],
            "source": "from sklearn.metrics import accuracy_score\n\naccuracy_score(Y_bin, classifier.predict(X))"
        },
        {
            "cell_type": "code",
            "execution_count": null,
            "metadata": {},
            "outputs": [],
            "source": "plt.figure(figsize=(6,6))\nplt.scatter(X_grid[:,0], X_grid[:,1], marker='.', c=classifier.predict(X_grid), s=1);\nplt.scatter(X.iloc[:,0], X.iloc[:,1], marker='d', c=Y_bin);\nplt.grid(True)"
        },
        {
            "cell_type": "markdown",
            "metadata": {},
            "source": "## Binary linear decision boundary defined by parameter vector $\\beta$"
        },
        {
            "cell_type": "markdown",
            "metadata": {},
            "source": "Distance to hyperplane:\n\n$$ d(x) = \\frac{\\beta \\cdot (x-x_0)}{\\|\\beta\\|} $$$$ d(x) = \\frac{\\beta \\cdot x}{\\|\\beta\\|} - \\frac{\\beta \\cdot x_0}{\\|\\beta\\|} = \\frac{\\beta \\cdot x}{\\|\\beta\\|} + \\beta_0 $$\n\nBinary decision boundary:\n\n$$ d(x) \\ge 0 $$"
        },
        {
            "cell_type": "markdown",
            "metadata": {},
            "source": "## Multi-class classification"
        },
        {
            "cell_type": "code",
            "execution_count": null,
            "metadata": {},
            "outputs": [],
            "source": "Y = df['target']"
        },
        {
            "cell_type": "code",
            "execution_count": null,
            "metadata": {},
            "outputs": [],
            "source": "scatter_matrix(X, c=Y, figsize=(7,7), marker='.', s=90);"
        },
        {
            "cell_type": "code",
            "execution_count": null,
            "metadata": {},
            "outputs": [],
            "source": "multi = LogisticRegression(solver='lbfgs', multi_class='auto')\nmulti.fit(X,Y);\nmulti.score(X,Y)"
        },
        {
            "cell_type": "code",
            "execution_count": null,
            "metadata": {},
            "outputs": [],
            "source": "plt.figure(figsize=(10,10))\nplt.scatter(X_grid[:,0], X_grid[:,1], c=multi.predict(X_grid), s=3, marker='.');\nplt.scatter(X.iloc[:,0], X.iloc[:,1], c=Y, marker='d');\nplt.grid(True)"
        },
        {
            "cell_type": "markdown",
            "metadata": {},
            "source": "Typically problem is split into binary $m$ classifications problems\n\n* $m$ ... number of classes\n* $d_c$, $c = 1, \\ldots, m$, distance functions for each class\n* One versus the rest (OVR, OVA - one versus all)\n* for $x$ the class $c^*$ is predicted for which $d_{c^*}(x) \\ge d_c(x)$ for all $c \\in 1, \\ldots, m$"
        },
        {
            "cell_type": "markdown",
            "metadata": {},
            "source": "# Maximum margin classifier"
        },
        {
            "cell_type": "markdown",
            "metadata": {},
            "source": "#### If problem is linear seperable\n\n$$ \\min_{\\beta, \\beta_0} \\|\\beta\\|^2 $$\n\nsubject to\n\n* $\\beta \\cdot x_i + \\beta_0 \\ge 0$ if $y_i =$ positive class\n* $\\beta \\cdot x_i + \\beta_0 &lt; 0$ if $y_i =$ negative class\n\nfor all $i = 1, \\ldots, n$\n\n\nStandard fomulation:\n$$ \\min_{\\beta, \\beta_0} \\frac{1}{2} \\|\\beta\\|^2 $$\n\nsubject to\n\n$(\\beta \\cdot x_i + \\beta_0) y_i \\ge 1$\n\nfor all $i = 1, \\ldots, n$ and where $y_i \\in \\{-1,+1\\}$.\n\nIn general problem is not linear separable: relaxation of constraints required\n$$ \\min_{\\beta, \\beta_0} \\frac{1}{2} \\|\\beta\\|^2 + C \\sum_i \\xi_i $$\n\nsubject to\n\n* $(\\beta \\cdot x_i + \\beta_0) y_i \\ge 1 - \\xi_i$\n* $\\xi_i \\ge 0$\n* for all $i = 1, \\ldots, n$\n* where $y_i \\in \\{-1,+1\\}$\n\nThe larger $C$ the more the slack variables $\\xi_i$ are pushed to zero."
        },
        {
            "cell_type": "markdown",
            "metadata": {},
            "source": "# Train a support vector classifier (SVC) for the iris data"
        },
        {
            "cell_type": "code",
            "execution_count": null,
            "metadata": {},
            "outputs": [],
            "source": "X = iris[['sepal width (cm)', 'petal length (cm)']]\nY = iris.target"
        },
        {
            "cell_type": "markdown",
            "metadata": {},
            "source": "## Linear SVC"
        },
        {
            "cell_type": "code",
            "execution_count": null,
            "metadata": {},
            "outputs": [],
            "source": "from sklearn.svm import SVC\n\nsvc = SVC(kernel='linear')\nsvc.fit(X,Y)"
        },
        {
            "cell_type": "code",
            "execution_count": null,
            "metadata": {},
            "outputs": [],
            "source": "svc.score(X,Y)"
        },
        {
            "cell_type": "code",
            "execution_count": null,
            "metadata": {},
            "outputs": [],
            "source": "plt.figure(figsize=(10,10))\nplt.scatter(X_grid[:,0], X_grid[:,1], c=svc.predict(X_grid), s=3, marker='.');\nplt.scatter(X.iloc[:,0], X.iloc[:,1], c=Y, marker='d');\nplt.grid(True)"
        },
        {
            "cell_type": "markdown",
            "metadata": {},
            "source": "# Non-Linear SVC (RBF)"
        },
        {
            "cell_type": "code",
            "execution_count": null,
            "metadata": {},
            "outputs": [],
            "source": "svc = SVC(kernel='rbf', gamma='auto')\nsvc.fit(X,Y)\nsvc.score(X,Y)"
        },
        {
            "cell_type": "code",
            "execution_count": null,
            "metadata": {},
            "outputs": [],
            "source": "plt.figure(figsize=(10,10))\nplt.scatter(X_grid[:,0], X_grid[:,1], c=svc.predict(X_grid), s=3, marker='.');\nplt.scatter(X.iloc[:,0], X.iloc[:,1], c=Y, marker='d');\nplt.grid(True)"
        },
        {
            "cell_type": "code",
            "execution_count": null,
            "metadata": {},
            "outputs": [],
            "source": ""
        }
    ],
    "metadata": {
        "kernelspec": {
            "display_name": "Python 3.6",
            "language": "python",
            "name": "python3"
        },
        "language_info": {
            "codemirror_mode": {
                "name": "ipython",
                "version": 3
            },
            "file_extension": ".py",
            "mimetype": "text/x-python",
            "name": "python",
            "nbconvert_exporter": "python",
            "pygments_lexer": "ipython3",
            "version": "3.6.8"
        }
    },
    "nbformat": 4,
    "nbformat_minor": 1
}