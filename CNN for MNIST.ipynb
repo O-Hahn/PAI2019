{
    "cells": [
        {
            "cell_type": "markdown",
            "metadata": {},
            "source": "# Educ - MNIST Beispiel (input im Kurs)"
        },
        {
            "cell_type": "code",
            "execution_count": 3,
            "metadata": {},
            "outputs": [
                {
                    "name": "stdout",
                    "output_type": "stream",
                    "text": "Requirement already satisfied: watson-machine-learning-client in /opt/conda/envs/Python36/lib/python3.6/site-packages (1.0.376)\nRequirement already satisfied: lomond in /opt/conda/envs/Python36/lib/python3.6/site-packages (from watson-machine-learning-client) (0.3.3)\nRequirement already satisfied: tqdm in /opt/conda/envs/Python36/lib/python3.6/site-packages (from watson-machine-learning-client) (4.31.1)\nRequirement already satisfied: urllib3 in /opt/conda/envs/Python36/lib/python3.6/site-packages (from watson-machine-learning-client) (1.24.1)\nRequirement already satisfied: requests in /opt/conda/envs/Python36/lib/python3.6/site-packages (from watson-machine-learning-client) (2.21.0)\nRequirement already satisfied: certifi in /opt/conda/envs/Python36/lib/python3.6/site-packages (from watson-machine-learning-client) (2019.11.28)\nRequirement already satisfied: ibm-cos-sdk in /opt/conda/envs/Python36/lib/python3.6/site-packages (from watson-machine-learning-client) (2.4.3)\nRequirement already satisfied: pandas in /opt/conda/envs/Python36/lib/python3.6/site-packages (from watson-machine-learning-client) (0.24.1)\nRequirement already satisfied: tabulate in /opt/conda/envs/Python36/lib/python3.6/site-packages (from watson-machine-learning-client) (0.8.2)\nRequirement already satisfied: six>=1.10.0 in /opt/conda/envs/Python36/lib/python3.6/site-packages (from lomond->watson-machine-learning-client) (1.12.0)\nRequirement already satisfied: chardet<3.1.0,>=3.0.2 in /opt/conda/envs/Python36/lib/python3.6/site-packages (from requests->watson-machine-learning-client) (3.0.4)\nRequirement already satisfied: idna<2.9,>=2.5 in /opt/conda/envs/Python36/lib/python3.6/site-packages (from requests->watson-machine-learning-client) (2.8)\nRequirement already satisfied: ibm-cos-sdk-s3transfer==2.*,>=2.0.0 in /opt/conda/envs/Python36/lib/python3.6/site-packages (from ibm-cos-sdk->watson-machine-learning-client) (2.4.3)\nRequirement already satisfied: ibm-cos-sdk-core==2.*,>=2.0.0 in /opt/conda/envs/Python36/lib/python3.6/site-packages (from ibm-cos-sdk->watson-machine-learning-client) (2.4.3)\nRequirement already satisfied: numpy>=1.12.0 in /opt/conda/envs/Python36/lib/python3.6/site-packages (from pandas->watson-machine-learning-client) (1.15.4)\nRequirement already satisfied: python-dateutil>=2.5.0 in /opt/conda/envs/Python36/lib/python3.6/site-packages (from pandas->watson-machine-learning-client) (2.7.5)\nRequirement already satisfied: pytz>=2011k in /opt/conda/envs/Python36/lib/python3.6/site-packages (from pandas->watson-machine-learning-client) (2018.9)\nRequirement already satisfied: jmespath<1.0.0,>=0.7.1 in /opt/conda/envs/Python36/lib/python3.6/site-packages (from ibm-cos-sdk-core==2.*,>=2.0.0->ibm-cos-sdk->watson-machine-learning-client) (0.9.3)\nRequirement already satisfied: docutils>=0.10 in /opt/conda/envs/Python36/lib/python3.6/site-packages (from ibm-cos-sdk-core==2.*,>=2.0.0->ibm-cos-sdk->watson-machine-learning-client) (0.14)\n"
                }
            ],
            "source": "!pip install watson-machine-learning-client"
        },
        {
            "cell_type": "code",
            "execution_count": 1,
            "metadata": {},
            "outputs": [],
            "source": "import keras\nfrom keras.datasets import mnist"
        },
        {
            "cell_type": "code",
            "execution_count": 4,
            "metadata": {},
            "outputs": [
                {
                    "name": "stdout",
                    "output_type": "stream",
                    "text": "Downloading data from https://s3.amazonaws.com/img-datasets/mnist.npz\n11493376/11490434 [==============================] - 7s 1us/step\n"
                }
            ],
            "source": "(X_train, y_train_classes), (X_test, y_test_classes) = mnist.load_data()"
        },
        {
            "cell_type": "code",
            "execution_count": 5,
            "metadata": {},
            "outputs": [
                {
                    "data": {
                        "text/plain": "(60000, 28, 28)"
                    },
                    "execution_count": 5,
                    "metadata": {},
                    "output_type": "execute_result"
                }
            ],
            "source": "X_train.shape"
        },
        {
            "cell_type": "code",
            "execution_count": 6,
            "metadata": {},
            "outputs": [
                {
                    "data": {
                        "text/plain": "array([0, 1, 2, 3, 4, 5, 6, 7, 8, 9], dtype=uint8)"
                    },
                    "execution_count": 6,
                    "metadata": {},
                    "output_type": "execute_result"
                }
            ],
            "source": "import numpy as np\nnp.unique(y_train_classes)"
        },
        {
            "cell_type": "code",
            "execution_count": 7,
            "metadata": {},
            "outputs": [
                {
                    "data": {
                        "text/plain": "array([5, 0, 4, 1, 9, 2, 1, 3, 1, 4], dtype=uint8)"
                    },
                    "execution_count": 7,
                    "metadata": {},
                    "output_type": "execute_result"
                }
            ],
            "source": "y_train_classes[:10]"
        },
        {
            "cell_type": "code",
            "execution_count": 11,
            "metadata": {},
            "outputs": [],
            "source": "X_train = X_train.reshape(-1, 28, 28, 1).astype('float32')\nX_test = X_test.reshape(-1, 28, 28, 1).astype('float32')"
        },
        {
            "cell_type": "code",
            "execution_count": 12,
            "metadata": {},
            "outputs": [
                {
                    "data": {
                        "text/plain": "array([[  0.,   0.,   0.,   0.,   0.,   0.,   0.,   0.,   0.,   0.,   0.,\n          0.,   0.,   0.,   0.,   0.,   0.,   0.,   0.,   0.,   0.,   0.,\n          0.,   0.,   0.,   0.,   0.,   0.],\n       [  0.,   0.,   0.,   0.,   0.,   0.,   0.,   0.,   0.,   0.,   0.,\n          0.,   0.,   0.,   0.,   0.,   0.,   0.,   0.,   0.,   0.,   0.,\n          0.,   0.,   0.,   0.,   0.,   0.],\n       [  0.,   0.,   0.,   0.,   0.,   0.,   0.,   0.,   0.,   0.,   0.,\n          0.,   0.,   0.,   0.,   0.,   0.,   0.,   0.,   0.,   0.,   0.,\n          0.,   0.,   0.,   0.,   0.,   0.],\n       [  0.,   0.,   0.,   0.,   0.,   0.,   0.,   0.,   0.,   0.,   0.,\n          0.,   0.,   0.,   0.,   0.,   0.,   0.,   0.,   0.,   0.,   0.,\n          0.,   0.,   0.,   0.,   0.,   0.],\n       [  0.,   0.,   0.,   0.,   0.,   0.,   0.,   0.,   0.,   0.,   0.,\n          0.,   0.,   0.,   0.,  51., 159., 253., 159.,  50.,   0.,   0.,\n          0.,   0.,   0.,   0.,   0.,   0.],\n       [  0.,   0.,   0.,   0.,   0.,   0.,   0.,   0.,   0.,   0.,   0.,\n          0.,   0.,   0.,  48., 238., 252., 252., 252., 237.,   0.,   0.,\n          0.,   0.,   0.,   0.,   0.,   0.],\n       [  0.,   0.,   0.,   0.,   0.,   0.,   0.,   0.,   0.,   0.,   0.,\n          0.,   0.,  54., 227., 253., 252., 239., 233., 252.,  57.,   6.,\n          0.,   0.,   0.,   0.,   0.,   0.],\n       [  0.,   0.,   0.,   0.,   0.,   0.,   0.,   0.,   0.,   0.,   0.,\n         10.,  60., 224., 252., 253., 252., 202.,  84., 252., 253., 122.,\n          0.,   0.,   0.,   0.,   0.,   0.],\n       [  0.,   0.,   0.,   0.,   0.,   0.,   0.,   0.,   0.,   0.,   0.,\n        163., 252., 252., 252., 253., 252., 252.,  96., 189., 253., 167.,\n          0.,   0.,   0.,   0.,   0.,   0.],\n       [  0.,   0.,   0.,   0.,   0.,   0.,   0.,   0.,   0.,   0.,  51.,\n        238., 253., 253., 190., 114., 253., 228.,  47.,  79., 255., 168.,\n          0.,   0.,   0.,   0.,   0.,   0.],\n       [  0.,   0.,   0.,   0.,   0.,   0.,   0.,   0.,   0.,  48., 238.,\n        252., 252., 179.,  12.,  75., 121.,  21.,   0.,   0., 253., 243.,\n         50.,   0.,   0.,   0.,   0.,   0.],\n       [  0.,   0.,   0.,   0.,   0.,   0.,   0.,   0.,  38., 165., 253.,\n        233., 208.,  84.,   0.,   0.,   0.,   0.,   0.,   0., 253., 252.,\n        165.,   0.,   0.,   0.,   0.,   0.],\n       [  0.,   0.,   0.,   0.,   0.,   0.,   0.,   7., 178., 252., 240.,\n         71.,  19.,  28.,   0.,   0.,   0.,   0.,   0.,   0., 253., 252.,\n        195.,   0.,   0.,   0.,   0.,   0.],\n       [  0.,   0.,   0.,   0.,   0.,   0.,   0.,  57., 252., 252.,  63.,\n          0.,   0.,   0.,   0.,   0.,   0.,   0.,   0.,   0., 253., 252.,\n        195.,   0.,   0.,   0.,   0.,   0.],\n       [  0.,   0.,   0.,   0.,   0.,   0.,   0., 198., 253., 190.,   0.,\n          0.,   0.,   0.,   0.,   0.,   0.,   0.,   0.,   0., 255., 253.,\n        196.,   0.,   0.,   0.,   0.,   0.],\n       [  0.,   0.,   0.,   0.,   0.,   0.,  76., 246., 252., 112.,   0.,\n          0.,   0.,   0.,   0.,   0.,   0.,   0.,   0.,   0., 253., 252.,\n        148.,   0.,   0.,   0.,   0.,   0.],\n       [  0.,   0.,   0.,   0.,   0.,   0.,  85., 252., 230.,  25.,   0.,\n          0.,   0.,   0.,   0.,   0.,   0.,   0.,   7., 135., 253., 186.,\n         12.,   0.,   0.,   0.,   0.,   0.],\n       [  0.,   0.,   0.,   0.,   0.,   0.,  85., 252., 223.,   0.,   0.,\n          0.,   0.,   0.,   0.,   0.,   0.,   7., 131., 252., 225.,  71.,\n          0.,   0.,   0.,   0.,   0.,   0.],\n       [  0.,   0.,   0.,   0.,   0.,   0.,  85., 252., 145.,   0.,   0.,\n          0.,   0.,   0.,   0.,   0.,  48., 165., 252., 173.,   0.,   0.,\n          0.,   0.,   0.,   0.,   0.,   0.],\n       [  0.,   0.,   0.,   0.,   0.,   0.,  86., 253., 225.,   0.,   0.,\n          0.,   0.,   0.,   0., 114., 238., 253., 162.,   0.,   0.,   0.,\n          0.,   0.,   0.,   0.,   0.,   0.],\n       [  0.,   0.,   0.,   0.,   0.,   0.,  85., 252., 249., 146.,  48.,\n         29.,  85., 178., 225., 253., 223., 167.,  56.,   0.,   0.,   0.,\n          0.,   0.,   0.,   0.,   0.,   0.],\n       [  0.,   0.,   0.,   0.,   0.,   0.,  85., 252., 252., 252., 229.,\n        215., 252., 252., 252., 196., 130.,   0.,   0.,   0.,   0.,   0.,\n          0.,   0.,   0.,   0.,   0.,   0.],\n       [  0.,   0.,   0.,   0.,   0.,   0.,  28., 199., 252., 252., 253.,\n        252., 252., 233., 145.,   0.,   0.,   0.,   0.,   0.,   0.,   0.,\n          0.,   0.,   0.,   0.,   0.,   0.],\n       [  0.,   0.,   0.,   0.,   0.,   0.,   0.,  25., 128., 252., 253.,\n        252., 141.,  37.,   0.,   0.,   0.,   0.,   0.,   0.,   0.,   0.,\n          0.,   0.,   0.,   0.,   0.,   0.],\n       [  0.,   0.,   0.,   0.,   0.,   0.,   0.,   0.,   0.,   0.,   0.,\n          0.,   0.,   0.,   0.,   0.,   0.,   0.,   0.,   0.,   0.,   0.,\n          0.,   0.,   0.,   0.,   0.,   0.],\n       [  0.,   0.,   0.,   0.,   0.,   0.,   0.,   0.,   0.,   0.,   0.,\n          0.,   0.,   0.,   0.,   0.,   0.,   0.,   0.,   0.,   0.,   0.,\n          0.,   0.,   0.,   0.,   0.,   0.],\n       [  0.,   0.,   0.,   0.,   0.,   0.,   0.,   0.,   0.,   0.,   0.,\n          0.,   0.,   0.,   0.,   0.,   0.,   0.,   0.,   0.,   0.,   0.,\n          0.,   0.,   0.,   0.,   0.,   0.],\n       [  0.,   0.,   0.,   0.,   0.,   0.,   0.,   0.,   0.,   0.,   0.,\n          0.,   0.,   0.,   0.,   0.,   0.,   0.,   0.,   0.,   0.,   0.,\n          0.,   0.,   0.,   0.,   0.,   0.]], dtype=float32)"
                    },
                    "execution_count": 12,
                    "metadata": {},
                    "output_type": "execute_result"
                }
            ],
            "source": "X_train[1,:,:,0]"
        },
        {
            "cell_type": "code",
            "execution_count": 13,
            "metadata": {},
            "outputs": [],
            "source": "X_train /= 255\nX_test /= 255"
        },
        {
            "cell_type": "code",
            "execution_count": 15,
            "metadata": {},
            "outputs": [],
            "source": "digit = 7\nidx = np.where(y_train_classes == digit)[0]"
        },
        {
            "cell_type": "code",
            "execution_count": null,
            "metadata": {},
            "outputs": [],
            "source": "from matplotlib import pylab as plt"
        },
        {
            "cell_type": "code",
            "execution_count": 18,
            "metadata": {},
            "outputs": [
                {
                    "data": {
                        "image/png": "[encoded data removed]",
                        "text/plain": "<Figure size 576x576 with 9 Axes>"
                    },
                    "metadata": {
                        "needs_background": "light"
                    },
                    "output_type": "display_data"
                }
            ],
            "source": "plt.figure(figsize=(8,8))\nfor p, i in enumerate(idx[:9]):\n    plt.subplot(3,3,p+1)\n    plt.imshow(X_train[i].reshape(28,28), cmap='gray', interpolation=None)"
        },
        {
            "cell_type": "code",
            "execution_count": 19,
            "metadata": {},
            "outputs": [
                {
                    "data": {
                        "text/plain": "array([[0.        , 0.        , 0.        , 0.        , 0.        ,\n        0.        , 0.        , 0.        , 0.        , 0.        ,\n        0.        , 0.        , 0.        , 0.        , 0.        ,\n        0.        , 0.        , 0.        , 0.        , 0.        ,\n        0.        , 0.        , 0.        , 0.        , 0.        ,\n        0.        , 0.        , 0.        ],\n       [0.        , 0.        , 0.        , 0.        , 0.        ,\n        0.        , 0.        , 0.        , 0.        , 0.        ,\n        0.        , 0.        , 0.        , 0.        , 0.        ,\n        0.        , 0.        , 0.        , 0.        , 0.        ,\n        0.        , 0.        , 0.        , 0.        , 0.        ,\n        0.        , 0.        , 0.        ],\n       [0.        , 0.        , 0.        , 0.        , 0.        ,\n        0.        , 0.        , 0.        , 0.        , 0.        ,\n        0.        , 0.        , 0.        , 0.        , 0.        ,\n        0.        , 0.        , 0.        , 0.        , 0.        ,\n        0.        , 0.        , 0.        , 0.        , 0.        ,\n        0.        , 0.        , 0.        ],\n       [0.        , 0.        , 0.        , 0.        , 0.        ,\n        0.        , 0.        , 0.        , 0.        , 0.        ,\n        0.        , 0.        , 0.        , 0.        , 0.        ,\n        0.        , 0.        , 0.        , 0.        , 0.        ,\n        0.        , 0.        , 0.        , 0.        , 0.        ,\n        0.        , 0.        , 0.        ],\n       [0.        , 0.        , 0.        , 0.        , 0.        ,\n        0.        , 0.        , 0.        , 0.        , 0.        ,\n        0.        , 0.        , 0.        , 0.        , 0.        ,\n        0.2       , 0.62352943, 0.99215686, 0.62352943, 0.19607843,\n        0.        , 0.        , 0.        , 0.        , 0.        ,\n        0.        , 0.        , 0.        ],\n       [0.        , 0.        , 0.        , 0.        , 0.        ,\n        0.        , 0.        , 0.        , 0.        , 0.        ,\n        0.        , 0.        , 0.        , 0.        , 0.1882353 ,\n        0.93333334, 0.9882353 , 0.9882353 , 0.9882353 , 0.92941177,\n        0.        , 0.        , 0.        , 0.        , 0.        ,\n        0.        , 0.        , 0.        ],\n       [0.        , 0.        , 0.        , 0.        , 0.        ,\n        0.        , 0.        , 0.        , 0.        , 0.        ,\n        0.        , 0.        , 0.        , 0.21176471, 0.8901961 ,\n        0.99215686, 0.9882353 , 0.9372549 , 0.9137255 , 0.9882353 ,\n        0.22352941, 0.02352941, 0.        , 0.        , 0.        ,\n        0.        , 0.        , 0.        ],\n       [0.        , 0.        , 0.        , 0.        , 0.        ,\n        0.        , 0.        , 0.        , 0.        , 0.        ,\n        0.        , 0.03921569, 0.23529412, 0.8784314 , 0.9882353 ,\n        0.99215686, 0.9882353 , 0.7921569 , 0.32941177, 0.9882353 ,\n        0.99215686, 0.47843137, 0.        , 0.        , 0.        ,\n        0.        , 0.        , 0.        ],\n       [0.        , 0.        , 0.        , 0.        , 0.        ,\n        0.        , 0.        , 0.        , 0.        , 0.        ,\n        0.        , 0.6392157 , 0.9882353 , 0.9882353 , 0.9882353 ,\n        0.99215686, 0.9882353 , 0.9882353 , 0.3764706 , 0.7411765 ,\n        0.99215686, 0.654902  , 0.        , 0.        , 0.        ,\n        0.        , 0.        , 0.        ],\n       [0.        , 0.        , 0.        , 0.        , 0.        ,\n        0.        , 0.        , 0.        , 0.        , 0.        ,\n        0.2       , 0.93333334, 0.99215686, 0.99215686, 0.74509805,\n        0.44705883, 0.99215686, 0.89411765, 0.18431373, 0.30980393,\n        1.        , 0.65882355, 0.        , 0.        , 0.        ,\n        0.        , 0.        , 0.        ],\n       [0.        , 0.        , 0.        , 0.        , 0.        ,\n        0.        , 0.        , 0.        , 0.        , 0.1882353 ,\n        0.93333334, 0.9882353 , 0.9882353 , 0.7019608 , 0.04705882,\n        0.29411766, 0.4745098 , 0.08235294, 0.        , 0.        ,\n        0.99215686, 0.9529412 , 0.19607843, 0.        , 0.        ,\n        0.        , 0.        , 0.        ],\n       [0.        , 0.        , 0.        , 0.        , 0.        ,\n        0.        , 0.        , 0.        , 0.14901961, 0.64705884,\n        0.99215686, 0.9137255 , 0.8156863 , 0.32941177, 0.        ,\n        0.        , 0.        , 0.        , 0.        , 0.        ,\n        0.99215686, 0.9882353 , 0.64705884, 0.        , 0.        ,\n        0.        , 0.        , 0.        ],\n       [0.        , 0.        , 0.        , 0.        , 0.        ,\n        0.        , 0.        , 0.02745098, 0.69803923, 0.9882353 ,\n        0.9411765 , 0.2784314 , 0.07450981, 0.10980392, 0.        ,\n        0.        , 0.        , 0.        , 0.        , 0.        ,\n        0.99215686, 0.9882353 , 0.7647059 , 0.        , 0.        ,\n        0.        , 0.        , 0.        ],\n       [0.        , 0.        , 0.        , 0.        , 0.        ,\n        0.        , 0.        , 0.22352941, 0.9882353 , 0.9882353 ,\n        0.24705882, 0.        , 0.        , 0.        , 0.        ,\n        0.        , 0.        , 0.        , 0.        , 0.        ,\n        0.99215686, 0.9882353 , 0.7647059 , 0.        , 0.        ,\n        0.        , 0.        , 0.        ],\n       [0.        , 0.        , 0.        , 0.        , 0.        ,\n        0.        , 0.        , 0.7764706 , 0.99215686, 0.74509805,\n        0.        , 0.        , 0.        , 0.        , 0.        ,\n        0.        , 0.        , 0.        , 0.        , 0.        ,\n        1.        , 0.99215686, 0.76862746, 0.        , 0.        ,\n        0.        , 0.        , 0.        ],\n       [0.        , 0.        , 0.        , 0.        , 0.        ,\n        0.        , 0.29803923, 0.9647059 , 0.9882353 , 0.4392157 ,\n        0.        , 0.        , 0.        , 0.        , 0.        ,\n        0.        , 0.        , 0.        , 0.        , 0.        ,\n        0.99215686, 0.9882353 , 0.5803922 , 0.        , 0.        ,\n        0.        , 0.        , 0.        ],\n       [0.        , 0.        , 0.        , 0.        , 0.        ,\n        0.        , 0.33333334, 0.9882353 , 0.9019608 , 0.09803922,\n        0.        , 0.        , 0.        , 0.        , 0.        ,\n        0.        , 0.        , 0.        , 0.02745098, 0.5294118 ,\n        0.99215686, 0.7294118 , 0.04705882, 0.        , 0.        ,\n        0.        , 0.        , 0.        ],\n       [0.        , 0.        , 0.        , 0.        , 0.        ,\n        0.        , 0.33333334, 0.9882353 , 0.8745098 , 0.        ,\n        0.        , 0.        , 0.        , 0.        , 0.        ,\n        0.        , 0.        , 0.02745098, 0.5137255 , 0.9882353 ,\n        0.88235295, 0.2784314 , 0.        , 0.        , 0.        ,\n        0.        , 0.        , 0.        ],\n       [0.        , 0.        , 0.        , 0.        , 0.        ,\n        0.        , 0.33333334, 0.9882353 , 0.5686275 , 0.        ,\n        0.        , 0.        , 0.        , 0.        , 0.        ,\n        0.        , 0.1882353 , 0.64705884, 0.9882353 , 0.6784314 ,\n        0.        , 0.        , 0.        , 0.        , 0.        ,\n        0.        , 0.        , 0.        ],\n       [0.        , 0.        , 0.        , 0.        , 0.        ,\n        0.        , 0.3372549 , 0.99215686, 0.88235295, 0.        ,\n        0.        , 0.        , 0.        , 0.        , 0.        ,\n        0.44705883, 0.93333334, 0.99215686, 0.63529414, 0.        ,\n        0.        , 0.        , 0.        , 0.        , 0.        ,\n        0.        , 0.        , 0.        ],\n       [0.        , 0.        , 0.        , 0.        , 0.        ,\n        0.        , 0.33333334, 0.9882353 , 0.9764706 , 0.57254905,\n        0.1882353 , 0.11372549, 0.33333334, 0.69803923, 0.88235295,\n        0.99215686, 0.8745098 , 0.654902  , 0.21960784, 0.        ,\n        0.        , 0.        , 0.        , 0.        , 0.        ,\n        0.        , 0.        , 0.        ],\n       [0.        , 0.        , 0.        , 0.        , 0.        ,\n        0.        , 0.33333334, 0.9882353 , 0.9882353 , 0.9882353 ,\n        0.8980392 , 0.84313726, 0.9882353 , 0.9882353 , 0.9882353 ,\n        0.76862746, 0.50980395, 0.        , 0.        , 0.        ,\n        0.        , 0.        , 0.        , 0.        , 0.        ,\n        0.        , 0.        , 0.        ],\n       [0.        , 0.        , 0.        , 0.        , 0.        ,\n        0.        , 0.10980392, 0.78039217, 0.9882353 , 0.9882353 ,\n        0.99215686, 0.9882353 , 0.9882353 , 0.9137255 , 0.5686275 ,\n        0.        , 0.        , 0.        , 0.        , 0.        ,\n        0.        , 0.        , 0.        , 0.        , 0.        ,\n        0.        , 0.        , 0.        ],\n       [0.        , 0.        , 0.        , 0.        , 0.        ,\n        0.        , 0.        , 0.09803922, 0.5019608 , 0.9882353 ,\n        0.99215686, 0.9882353 , 0.5529412 , 0.14509805, 0.        ,\n        0.        , 0.        , 0.        , 0.        , 0.        ,\n        0.        , 0.        , 0.        , 0.        , 0.        ,\n        0.        , 0.        , 0.        ],\n       [0.        , 0.        , 0.        , 0.        , 0.        ,\n        0.        , 0.        , 0.        , 0.        , 0.        ,\n        0.        , 0.        , 0.        , 0.        , 0.        ,\n        0.        , 0.        , 0.        , 0.        , 0.        ,\n        0.        , 0.        , 0.        , 0.        , 0.        ,\n        0.        , 0.        , 0.        ],\n       [0.        , 0.        , 0.        , 0.        , 0.        ,\n        0.        , 0.        , 0.        , 0.        , 0.        ,\n        0.        , 0.        , 0.        , 0.        , 0.        ,\n        0.        , 0.        , 0.        , 0.        , 0.        ,\n        0.        , 0.        , 0.        , 0.        , 0.        ,\n        0.        , 0.        , 0.        ],\n       [0.        , 0.        , 0.        , 0.        , 0.        ,\n        0.        , 0.        , 0.        , 0.        , 0.        ,\n        0.        , 0.        , 0.        , 0.        , 0.        ,\n        0.        , 0.        , 0.        , 0.        , 0.        ,\n        0.        , 0.        , 0.        , 0.        , 0.        ,\n        0.        , 0.        , 0.        ],\n       [0.        , 0.        , 0.        , 0.        , 0.        ,\n        0.        , 0.        , 0.        , 0.        , 0.        ,\n        0.        , 0.        , 0.        , 0.        , 0.        ,\n        0.        , 0.        , 0.        , 0.        , 0.        ,\n        0.        , 0.        , 0.        , 0.        , 0.        ,\n        0.        , 0.        , 0.        ]], dtype=float32)"
                    },
                    "execution_count": 19,
                    "metadata": {},
                    "output_type": "execute_result"
                }
            ],
            "source": "X_train[1].reshape(28,28)  "
        },
        {
            "cell_type": "code",
            "execution_count": 20,
            "metadata": {},
            "outputs": [],
            "source": "from keras.utils import to_categorical"
        },
        {
            "cell_type": "code",
            "execution_count": 24,
            "metadata": {},
            "outputs": [],
            "source": "# On Hot Encoding - each digit is in array placed once - for ml needed\ny_train = to_categorical(y_train_classes)\ny_test = to_categorical(y_test_classes)"
        },
        {
            "cell_type": "code",
            "execution_count": 25,
            "metadata": {},
            "outputs": [
                {
                    "data": {
                        "text/plain": "(array([0., 0., 0., 0., 0., 1., 0., 0., 0., 0.], dtype=float32), 5)"
                    },
                    "execution_count": 25,
                    "metadata": {},
                    "output_type": "execute_result"
                }
            ],
            "source": "y_train[0], y_train_classes[0]"
        },
        {
            "cell_type": "code",
            "execution_count": 31,
            "metadata": {},
            "outputs": [],
            "source": "from keras.models import Sequential\nfrom keras.layers import Conv2D, MaxPooling2D, Dropout, Flatten, Dense"
        },
        {
            "cell_type": "code",
            "execution_count": 32,
            "metadata": {},
            "outputs": [
                {
                    "name": "stdout",
                    "output_type": "stream",
                    "text": "WARNING:tensorflow:From /opt/conda/envs/Python36/lib/python3.6/site-packages/keras/backend/tensorflow_backend.py:3445: calling dropout (from tensorflow.python.ops.nn_ops) with keep_prob is deprecated and will be removed in a future version.\nInstructions for updating:\nPlease use `rate` instead of `keep_prob`. Rate should be set to `rate = 1 - keep_prob`.\n_________________________________________________________________\nLayer (type)                 Output Shape              Param #   \n=================================================================\nconv2d_2 (Conv2D)            (None, 26, 26, 64)        640       \n_________________________________________________________________\nmax_pooling2d_1 (MaxPooling2 (None, 13, 13, 64)        0         \n_________________________________________________________________\ndropout_1 (Dropout)          (None, 13, 13, 64)        0         \n_________________________________________________________________\nflatten_1 (Flatten)          (None, 10816)             0         \n_________________________________________________________________\ndense_1 (Dense)              (None, 128)               1384576   \n_________________________________________________________________\ndropout_2 (Dropout)          (None, 128)               0         \n_________________________________________________________________\ndense_2 (Dense)              (None, 10)                1290      \n=================================================================\nTotal params: 1,386,506\nTrainable params: 1,386,506\nNon-trainable params: 0\n_________________________________________________________________\n"
                }
            ],
            "source": "model = Sequential()\n\n# 64 Filter mit der gr\u00f6\u00dfe 3,3 \nmodel.add ( Conv2D(64, (3, 3), activation='relu', input_shape = (28, 28, 1)) )\n# --> 64 Bilder mit 26,26 \n\n# n\u00e4chster Schritt - ein Detektor von 64 gibt nur mehr das Maximum von 4 Pixeln (2 + 2) zur\u00fcck \nmodel.add ( MaxPooling2D(pool_size=(2, 2)) )\n# --> Bilder werden auf 13,13 \n\n# 50% der gewichte werden in den neuronen auf 0 gesetzt\nmodel.add ( Dropout(rate=0.5) )\n\n# generalisieren auf einen Vektor 64*13*13\nmodel.add ( Flatten())\n\nmodel.add( Dense (128, activation='relu') )\n\nmodel.add( Dropout( rate= 0.5))\n\n# Vektor in einen Wahrscheinlichkeitsvektor umrechnen -- macht die Funktion softmax\nmodel.add( Dense (10, activation='softmax') )\n\nmodel.summary()\n"
        },
        {
            "cell_type": "code",
            "execution_count": 35,
            "metadata": {},
            "outputs": [],
            "source": "from keras.losses import categorical_crossentropy\nfrom keras.optimizers import Adam"
        },
        {
            "cell_type": "code",
            "execution_count": 37,
            "metadata": {},
            "outputs": [],
            "source": "model.compile(\n    loss = categorical_crossentropy,\n    optimizer = Adam(),\n    metrics = ['accuracy']\n)"
        },
        {
            "cell_type": "code",
            "execution_count": 39,
            "metadata": {},
            "outputs": [
                {
                    "name": "stdout",
                    "output_type": "stream",
                    "text": "Train on 10000 samples, validate on 10000 samples\nEpoch 1/2\n10000/10000 [==============================] - 35s 3ms/step - loss: 0.3600 - acc: 0.8960 - val_loss: 0.1871 - val_acc: 0.9432\nEpoch 2/2\n10000/10000 [==============================] - 34s 3ms/step - loss: 0.2329 - acc: 0.9323 - val_loss: 0.1387 - val_acc: 0.9597\n"
                },
                {
                    "data": {
                        "text/plain": "<keras.callbacks.History at 0x7fc80c257cf8>"
                    },
                    "execution_count": 39,
                    "metadata": {},
                    "output_type": "execute_result"
                }
            ],
            "source": "# Verwenden der ersten 50000 f\u00fcrs Trainieren und den rest f\u00fcrs validieren\nmodel.fit(\n    X_train[:50000], y_train[:50000],\n    batch_size = 128,\n    epochs=2,\n    verbose=1,\n    validation_data=(X_train[50000:], y_train[50000:])\n)"
        },
        {
            "cell_type": "code",
            "execution_count": 40,
            "metadata": {},
            "outputs": [],
            "source": "# Test des models gegen die Testdaten\nscore = model.evaluate(X_test, y_test, verbose = 0)"
        },
        {
            "cell_type": "code",
            "execution_count": 41,
            "metadata": {},
            "outputs": [
                {
                    "data": {
                        "text/plain": "0.1387343276321888"
                    },
                    "execution_count": 41,
                    "metadata": {},
                    "output_type": "execute_result"
                }
            ],
            "source": "loss_test = score[0]\nloss_test"
        },
        {
            "cell_type": "code",
            "execution_count": 42,
            "metadata": {},
            "outputs": [
                {
                    "data": {
                        "text/plain": "0.9597"
                    },
                    "execution_count": 42,
                    "metadata": {},
                    "output_type": "execute_result"
                }
            ],
            "source": "acc_test = score[1]\nacc_test"
        },
        {
            "cell_type": "code",
            "execution_count": 45,
            "metadata": {},
            "outputs": [
                {
                    "name": "stdout",
                    "output_type": "stream",
                    "text": "total 31M\r\ndrwxr-x--- 2 dsxuser dsxuser 4.0K Jan 20 08:23 .\r\ndrwx------ 1 dsxuser dsxuser 4.0K Jan 20 07:30 ..\r\n-rw-r----- 1 dsxuser dsxuser  16M Jan 20 08:23 keras_mnist_cnn.h5\r\n-rw-r----- 1 dsxuser dsxuser  15M Jan 20 08:23 keras_mnist_cnn.tgz\r\n"
                }
            ],
            "source": "# First, the Keras model has to be stored in HDF-5 file\nmodel_file_name = 'keras_mnist_cnn.h5'\nmodel.save (model_file_name)\n\n# Save the Keras model as a package\nimport os\nmodel_development_artifact_name = model_file_name.replace('.h5', '.tgz')\nos.system(\"tar cvzf {} {}\".format(model_development_artifact_name, model_file_name))\n\n!ls -alh"
        },
        {
            "cell_type": "code",
            "execution_count": 46,
            "metadata": {},
            "outputs": [],
            "source": "# The code was removed by Watson Studio for sharing."
        },
        {
            "cell_type": "code",
            "execution_count": 48,
            "metadata": {},
            "outputs": [
                {
                    "name": "stderr",
                    "output_type": "stream",
                    "text": "2020-01-20 08:33:21,596 - watson_machine_learning_client.metanames - WARNING - 'AUTHOR_EMAIL' meta prop is deprecated. It will be ignored.\n2020-01-20 08:40:23,601 - watson_machine_learning_client.metanames - WARNING - 'AUTHOR_EMAIL' meta prop is deprecated. It will be ignored.\n"
                }
            ],
            "source": "from watson_machine_learning_client import WatsonMachineLearningAPIClient"
        },
        {
            "cell_type": "code",
            "execution_count": 49,
            "metadata": {},
            "outputs": [],
            "source": "wml_client = WatsonMachineLearningAPIClient(wml_credentials)"
        },
        {
            "cell_type": "code",
            "execution_count": 50,
            "metadata": {},
            "outputs": [
                {
                    "data": {
                        "text/plain": "('3.6.8 |Anaconda, Inc.| (default, Dec 30 2018, 01:22:34) \\n[GCC 7.3.0]',\n '1.13.1',\n '2.2.4')"
                    },
                    "execution_count": 50,
                    "metadata": {},
                    "output_type": "execute_result"
                }
            ],
            "source": "import tensorflow, sys\nsys.version, tensorflow.__version__, keras.__version__"
        },
        {
            "cell_type": "code",
            "execution_count": 58,
            "metadata": {},
            "outputs": [
                {
                    "data": {
                        "text/plain": "{'authorName': 'Olaf Hahn',\n 'author_email': 'olaf.hahn@fh-hagenberg.at',\n 'name': 'Simple CNN from MNIST data',\n 'frameworkName': 'tensorflow',\n 'frameworkVersion': '1.13',\n 'runtime_name': 'python',\n 'runtime_version': '3.6',\n 'frameworkLibraries': [{'version': '2.2.4', 'name': 'keras'}]}"
                    },
                    "execution_count": 58,
                    "metadata": {},
                    "output_type": "execute_result"
                }
            ],
            "source": "model_props = {\n    wml_client.repository.ModelMetaNames.AUTHOR_NAME : \"Olaf Hahn\",\n    wml_client.repository.ModelMetaNames.AUTHOR_EMAIL : \"olaf.hahn@fh-hagenberg.at\",\n    wml_client.repository.ModelMetaNames.NAME : \"Simple CNN from MNIST data\",\n    wml_client.repository.ModelMetaNames.FRAMEWORK_NAME: \"tensorflow\",\n    wml_client.repository.ModelMetaNames.FRAMEWORK_VERSION : \"1.13\",\n    wml_client.repository.ModelMetaNames.RUNTIME_NAME : \"python\",\n    wml_client.repository.ModelMetaNames.RUNTIME_VERSION : \"3.6\", \n    wml_client.repository.ModelMetaNames.FRAMEWORK_LIBRARIES : [{'version' : '2.2.4', 'name' : 'keras'}]\n}\nmodel_props"
        },
        {
            "cell_type": "code",
            "execution_count": 59,
            "metadata": {},
            "outputs": [],
            "source": "published_keras_cnn = wml_client.repository.store_model(\n    model = model_development_artifact_name,\n    meta_props = model_props\n)"
        },
        {
            "cell_type": "code",
            "execution_count": 60,
            "metadata": {},
            "outputs": [
                {
                    "data": {
                        "text/plain": "'a169455a-eb99-4493-874e-f8e973c78a4c'"
                    },
                    "execution_count": 60,
                    "metadata": {},
                    "output_type": "execute_result"
                }
            ],
            "source": "model_guid = wml_client.repository.get_model_uid(published_keras_cnn)\nmodel_guid"
        },
        {
            "cell_type": "code",
            "execution_count": 61,
            "metadata": {},
            "outputs": [
                {
                    "name": "stdout",
                    "output_type": "stream",
                    "text": "\n\n#######################################################################################\n\nSynchronous deployment creation for uid: 'a169455a-eb99-4493-874e-f8e973c78a4c' started\n\n#######################################################################################\n\n\nINITIALIZING\nDEPLOY_IN_PROGRESS\nDEPLOY_SUCCESS\n\n\n------------------------------------------------------------------------------------------------\nSuccessfully finished deployment creation, deployment_uid='8c0a9668-e1b4-44f5-abb0-689b6042f34c'\n------------------------------------------------------------------------------------------------\n\n\n"
                }
            ],
            "source": "deployment_details = wml_client.deployments.create (\n    model_guid, name = 'Deployment of ' + model_props[wml_client.repository.ModelMetaNames.AUTHOR_NAME]\n)"
        },
        {
            "cell_type": "code",
            "execution_count": 62,
            "metadata": {},
            "outputs": [
                {
                    "data": {
                        "text/plain": "'https://eu-de.ml.cloud.ibm.com/v3/wml_instances/ca8827ac-42b3-4b43-bfdc-7eafb3bf054b/deployments/8c0a9668-e1b4-44f5-abb0-689b6042f34c/online'"
                    },
                    "execution_count": 62,
                    "metadata": {},
                    "output_type": "execute_result"
                }
            ],
            "source": "scoring_url = wml_client.deployments.get_scoring_url(deployment_details)\nscoring_url"
        },
        {
            "cell_type": "code",
            "execution_count": 66,
            "metadata": {},
            "outputs": [],
            "source": "def numpy_array_to_json_serializable(array):\n    return [[[float(x)] for x in row] for row in array]"
        },
        {
            "cell_type": "code",
            "execution_count": 67,
            "metadata": {},
            "outputs": [],
            "source": "numpy_array_to_json_serializable(X_test[0]);"
        },
        {
            "cell_type": "code",
            "execution_count": 68,
            "metadata": {},
            "outputs": [],
            "source": "n = 20\n\nscoring_payload = {\n    'values' : [numpy_array_to_json_serializable(X_test[i]) for i in range(n)]\n}\n\npredictions = wml_client.deployments.score(scoring_url, scoring_payload)"
        },
        {
            "cell_type": "code",
            "execution_count": 69,
            "metadata": {},
            "outputs": [
                {
                    "data": {
                        "text/plain": "['prediction', 'prediction_classes', 'probability']"
                    },
                    "execution_count": 69,
                    "metadata": {},
                    "output_type": "execute_result"
                }
            ],
            "source": "predictions['fields']"
        },
        {
            "cell_type": "code",
            "execution_count": 70,
            "metadata": {},
            "outputs": [
                {
                    "data": {
                        "text/plain": "7"
                    },
                    "execution_count": 70,
                    "metadata": {},
                    "output_type": "execute_result"
                }
            ],
            "source": "predictions['values'][0][1]"
        },
        {
            "cell_type": "code",
            "execution_count": 74,
            "metadata": {},
            "outputs": [
                {
                    "data": {
                        "text/plain": "[7, 2, 1, 0, 4, 1, 4, 9, 5, 9, 0, 6, 9, 0, 1, 5, 9, 7, 3, 4]"
                    },
                    "execution_count": 74,
                    "metadata": {},
                    "output_type": "execute_result"
                }
            ],
            "source": "[predictions['values'][i][1] for i in range(n)]"
        },
        {
            "cell_type": "code",
            "execution_count": 75,
            "metadata": {},
            "outputs": [
                {
                    "data": {
                        "text/plain": "[7, 2, 1, 0, 4, 1, 4, 9, 5, 9, 0, 6, 9, 0, 1, 5, 9, 7, 3, 4]"
                    },
                    "execution_count": 75,
                    "metadata": {},
                    "output_type": "execute_result"
                }
            ],
            "source": "list(y_test_classes[:n])"
        },
        {
            "cell_type": "code",
            "execution_count": null,
            "metadata": {},
            "outputs": [],
            "source": ""
        }
    ],
    "metadata": {
        "kernelspec": {
            "display_name": "Python 3.6",
            "language": "python",
            "name": "python3"
        },
        "language_info": {
            "codemirror_mode": {
                "name": "ipython",
                "version": 3
            },
            "file_extension": ".py",
            "mimetype": "text/x-python",
            "name": "python",
            "nbconvert_exporter": "python",
            "pygments_lexer": "ipython3",
            "version": "3.6.8"
        }
    },
    "nbformat": 4,
    "nbformat_minor": 1
}